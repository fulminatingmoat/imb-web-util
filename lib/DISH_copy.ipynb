{
 "cells": [
  {
   "cell_type": "code",
   "execution_count": 234,
   "metadata": {
    "collapsed": true
   },
   "outputs": [],
   "source": [
    "import pandas as pd\n",
    "import scipy.stats as st\n",
    "import scipy.linalg as la\n",
    "import numpy as np\n",
    "import math\n",
    "maf = 0.005"
   ]
  },
  {
   "cell_type": "code",
   "execution_count": 235,
   "outputs": [],
   "source": [
    "european_reference_panel_ld = pd.read_pickle('./reference_panels/european_reference_panel.pickle')\n",
    "european_reference_panel_map = pd.read_pickle('./reference_panels/european_reference_panel_map.pickle')\n",
    "european_reference_panel_map.rename(columns={'POS18':'SNP_pos'}, inplace=True)"
   ],
   "metadata": {
    "collapsed": false,
    "pycharm": {
     "name": "#%%\n"
    }
   }
  },
  {
   "cell_type": "code",
   "execution_count": 236,
   "outputs": [],
   "source": [
    "sample_summary = pd.read_pickle(\"./EUR_sample.pickle\")"
   ],
   "metadata": {
    "collapsed": false,
    "pycharm": {
     "name": "#%%\n"
    }
   }
  },
  {
   "cell_type": "code",
   "execution_count": 237,
   "outputs": [
    {
     "data": {
      "text/plain": "          SNP_id   SNP_pos Effect_allele Non_effect_allele       T     T_CDF  \\\n0      rs2894066  29001906             A                 T -4.8490 -3.912127   \n1      rs3763338  29002290             A                 T  0.8687 -1.434234   \n2      rs2071790  29019781             A                 T -4.4720 -3.760589   \n3      rs2071789  29020055             T                 A  3.2710 -3.192781   \n4      rs2071788  29020286             T                 A  1.4930 -1.987786   \n...          ...       ...           ...               ...     ...       ...   \n1537  rs12191571  33988458             C                 G  0.3078 -0.932253   \n1538   rs2477223  33993780             A                 T -0.5957 -1.184482   \n1539   rs9368783  33995346             C                 G -1.0610 -1.609745   \n1540  rs12216193  33995958             T                 A  1.0650 -1.613365   \n1541   rs7748976  33998429             A                 T -0.8043 -1.375091   \n\n           T-P    T_2CDF   T_2CDF2     T_PPF       T-Z  \n0     0.019998 -7.824254 -8.517401 -3.540139 -3.540139  \n1     0.238298 -2.868469 -3.561616 -1.904956  1.904956  \n2     0.023270 -7.521179 -8.214326 -3.459343 -3.459343  \n3     0.041058 -6.385562 -7.078709 -3.140652  3.140652  \n4     0.136998 -3.975571 -4.668718 -2.350096  2.350096  \n...        ...       ...       ...       ...       ...  \n1537  0.393666 -1.864507 -2.557654 -1.422185  1.422185  \n1538  0.305905 -2.368964 -3.062111 -1.676820 -1.676820  \n1539  0.199938 -3.219491 -3.912638 -2.054003 -2.054003  \n1540  0.199216 -3.226730 -3.919877 -2.056991  2.056991  \n1541  0.252817 -2.750182 -3.443330 -1.852764 -1.852764  \n\n[1542 rows x 11 columns]",
      "text/html": "<div>\n<style scoped>\n    .dataframe tbody tr th:only-of-type {\n        vertical-align: middle;\n    }\n\n    .dataframe tbody tr th {\n        vertical-align: top;\n    }\n\n    .dataframe thead th {\n        text-align: right;\n    }\n</style>\n<table border=\"1\" class=\"dataframe\">\n  <thead>\n    <tr style=\"text-align: right;\">\n      <th></th>\n      <th>SNP_id</th>\n      <th>SNP_pos</th>\n      <th>Effect_allele</th>\n      <th>Non_effect_allele</th>\n      <th>T</th>\n      <th>T_CDF</th>\n      <th>T-P</th>\n      <th>T_2CDF</th>\n      <th>T_2CDF2</th>\n      <th>T_PPF</th>\n      <th>T-Z</th>\n    </tr>\n  </thead>\n  <tbody>\n    <tr>\n      <th>0</th>\n      <td>rs2894066</td>\n      <td>29001906</td>\n      <td>A</td>\n      <td>T</td>\n      <td>-4.8490</td>\n      <td>-3.912127</td>\n      <td>0.019998</td>\n      <td>-7.824254</td>\n      <td>-8.517401</td>\n      <td>-3.540139</td>\n      <td>-3.540139</td>\n    </tr>\n    <tr>\n      <th>1</th>\n      <td>rs3763338</td>\n      <td>29002290</td>\n      <td>A</td>\n      <td>T</td>\n      <td>0.8687</td>\n      <td>-1.434234</td>\n      <td>0.238298</td>\n      <td>-2.868469</td>\n      <td>-3.561616</td>\n      <td>-1.904956</td>\n      <td>1.904956</td>\n    </tr>\n    <tr>\n      <th>2</th>\n      <td>rs2071790</td>\n      <td>29019781</td>\n      <td>A</td>\n      <td>T</td>\n      <td>-4.4720</td>\n      <td>-3.760589</td>\n      <td>0.023270</td>\n      <td>-7.521179</td>\n      <td>-8.214326</td>\n      <td>-3.459343</td>\n      <td>-3.459343</td>\n    </tr>\n    <tr>\n      <th>3</th>\n      <td>rs2071789</td>\n      <td>29020055</td>\n      <td>T</td>\n      <td>A</td>\n      <td>3.2710</td>\n      <td>-3.192781</td>\n      <td>0.041058</td>\n      <td>-6.385562</td>\n      <td>-7.078709</td>\n      <td>-3.140652</td>\n      <td>3.140652</td>\n    </tr>\n    <tr>\n      <th>4</th>\n      <td>rs2071788</td>\n      <td>29020286</td>\n      <td>T</td>\n      <td>A</td>\n      <td>1.4930</td>\n      <td>-1.987786</td>\n      <td>0.136998</td>\n      <td>-3.975571</td>\n      <td>-4.668718</td>\n      <td>-2.350096</td>\n      <td>2.350096</td>\n    </tr>\n    <tr>\n      <th>...</th>\n      <td>...</td>\n      <td>...</td>\n      <td>...</td>\n      <td>...</td>\n      <td>...</td>\n      <td>...</td>\n      <td>...</td>\n      <td>...</td>\n      <td>...</td>\n      <td>...</td>\n      <td>...</td>\n    </tr>\n    <tr>\n      <th>1537</th>\n      <td>rs12191571</td>\n      <td>33988458</td>\n      <td>C</td>\n      <td>G</td>\n      <td>0.3078</td>\n      <td>-0.932253</td>\n      <td>0.393666</td>\n      <td>-1.864507</td>\n      <td>-2.557654</td>\n      <td>-1.422185</td>\n      <td>1.422185</td>\n    </tr>\n    <tr>\n      <th>1538</th>\n      <td>rs2477223</td>\n      <td>33993780</td>\n      <td>A</td>\n      <td>T</td>\n      <td>-0.5957</td>\n      <td>-1.184482</td>\n      <td>0.305905</td>\n      <td>-2.368964</td>\n      <td>-3.062111</td>\n      <td>-1.676820</td>\n      <td>-1.676820</td>\n    </tr>\n    <tr>\n      <th>1539</th>\n      <td>rs9368783</td>\n      <td>33995346</td>\n      <td>C</td>\n      <td>G</td>\n      <td>-1.0610</td>\n      <td>-1.609745</td>\n      <td>0.199938</td>\n      <td>-3.219491</td>\n      <td>-3.912638</td>\n      <td>-2.054003</td>\n      <td>-2.054003</td>\n    </tr>\n    <tr>\n      <th>1540</th>\n      <td>rs12216193</td>\n      <td>33995958</td>\n      <td>T</td>\n      <td>A</td>\n      <td>1.0650</td>\n      <td>-1.613365</td>\n      <td>0.199216</td>\n      <td>-3.226730</td>\n      <td>-3.919877</td>\n      <td>-2.056991</td>\n      <td>2.056991</td>\n    </tr>\n    <tr>\n      <th>1541</th>\n      <td>rs7748976</td>\n      <td>33998429</td>\n      <td>A</td>\n      <td>T</td>\n      <td>-0.8043</td>\n      <td>-1.375091</td>\n      <td>0.252817</td>\n      <td>-2.750182</td>\n      <td>-3.443330</td>\n      <td>-1.852764</td>\n      <td>-1.852764</td>\n    </tr>\n  </tbody>\n</table>\n<p>1542 rows × 11 columns</p>\n</div>"
     },
     "execution_count": 237,
     "metadata": {},
     "output_type": "execute_result"
    }
   ],
   "source": [
    "sample_summary['T_CDF'] = st.t.logcdf(-abs(sample_summary['T']), 2)\n",
    "sample_summary['T-P'] = st.t.cdf(-abs(sample_summary['T']), 2)\n",
    "sample_summary['T_2CDF'] = 2*sample_summary['T_CDF']\n",
    "sample_summary['T_2CDF2'] = sample_summary['T_2CDF']-math.log(2)\n",
    "sample_summary['T_PPF'] = sample_summary.apply(lambda x: st.norm.ppf(math.e**x['T_2CDF2']), axis=1)\n",
    "sample_summary['T-Z'] = sample_summary.apply(lambda x: abs(x['T_PPF']) if x['T'] >= 0 else -abs(x['T_PPF']) , axis=1)\n",
    "sample_summary"
   ],
   "metadata": {
    "collapsed": false,
    "pycharm": {
     "name": "#%%\n"
    }
   }
  },
  {
   "cell_type": "code",
   "execution_count": 238,
   "outputs": [],
   "source": [
    "european_reference_panel_map_maf_filtered = european_reference_panel_map.query('@maf <= maf <= 1-@maf')\n",
    "european_reference_panel_ld_maf_filtered = european_reference_panel_ld.iloc[:,\n",
    "                                           european_reference_panel_map_maf_filtered.index]\n",
    "european_reference_panel_ld_maf_filtered = european_reference_panel_ld_maf_filtered.loc[\n",
    "    european_reference_panel_map_maf_filtered.index]\n",
    "#european_reference_panel_ld_maf_filtered = european_reference_panel_ld_maf_filtered.to_numpy()\n",
    "#european_reference_panel_map_maf_filtered.reset_index(drop=True, inplace=True)\n",
    "ld_filtered_reset_index = european_reference_panel_ld_maf_filtered.reset_index()"
   ],
   "metadata": {
    "collapsed": false,
    "pycharm": {
     "name": "#%%\n"
    }
   }
  },
  {
   "cell_type": "code",
   "execution_count": 239,
   "outputs": [
    {
     "data": {
      "text/plain": "         SNP_id   SNP_pos     POS19 Major Minor       maf\n0      rs969931  29602876  29494897     A     C  0.478086\n1     rs2745406  29604062  29496083     T     C  0.468517\n2     rs6939431  29604199  29496220     G     A  0.025263\n3     rs1233427  29604643  29496664     G     A  0.421435\n4     rs1233426  29606081  29498102     G     A  0.421435\n...         ...       ...       ...   ...   ...       ...\n8956  rs2744505  33261100  33153122     G     C  0.130813\n8957  rs2855459  33262634  33154656     C     T  0.130718\n8958  rs2855429  33266167  33158189     G     T  0.257895\n8959  rs9469378  33267642  33159664     T     C  0.045167\n8960  rs9277935  33268403  33160425     G     T  0.218660\n\n[8444 rows x 6 columns]",
      "text/html": "<div>\n<style scoped>\n    .dataframe tbody tr th:only-of-type {\n        vertical-align: middle;\n    }\n\n    .dataframe tbody tr th {\n        vertical-align: top;\n    }\n\n    .dataframe thead th {\n        text-align: right;\n    }\n</style>\n<table border=\"1\" class=\"dataframe\">\n  <thead>\n    <tr style=\"text-align: right;\">\n      <th></th>\n      <th>SNP_id</th>\n      <th>SNP_pos</th>\n      <th>POS19</th>\n      <th>Major</th>\n      <th>Minor</th>\n      <th>maf</th>\n    </tr>\n  </thead>\n  <tbody>\n    <tr>\n      <th>0</th>\n      <td>rs969931</td>\n      <td>29602876</td>\n      <td>29494897</td>\n      <td>A</td>\n      <td>C</td>\n      <td>0.478086</td>\n    </tr>\n    <tr>\n      <th>1</th>\n      <td>rs2745406</td>\n      <td>29604062</td>\n      <td>29496083</td>\n      <td>T</td>\n      <td>C</td>\n      <td>0.468517</td>\n    </tr>\n    <tr>\n      <th>2</th>\n      <td>rs6939431</td>\n      <td>29604199</td>\n      <td>29496220</td>\n      <td>G</td>\n      <td>A</td>\n      <td>0.025263</td>\n    </tr>\n    <tr>\n      <th>3</th>\n      <td>rs1233427</td>\n      <td>29604643</td>\n      <td>29496664</td>\n      <td>G</td>\n      <td>A</td>\n      <td>0.421435</td>\n    </tr>\n    <tr>\n      <th>4</th>\n      <td>rs1233426</td>\n      <td>29606081</td>\n      <td>29498102</td>\n      <td>G</td>\n      <td>A</td>\n      <td>0.421435</td>\n    </tr>\n    <tr>\n      <th>...</th>\n      <td>...</td>\n      <td>...</td>\n      <td>...</td>\n      <td>...</td>\n      <td>...</td>\n      <td>...</td>\n    </tr>\n    <tr>\n      <th>8956</th>\n      <td>rs2744505</td>\n      <td>33261100</td>\n      <td>33153122</td>\n      <td>G</td>\n      <td>C</td>\n      <td>0.130813</td>\n    </tr>\n    <tr>\n      <th>8957</th>\n      <td>rs2855459</td>\n      <td>33262634</td>\n      <td>33154656</td>\n      <td>C</td>\n      <td>T</td>\n      <td>0.130718</td>\n    </tr>\n    <tr>\n      <th>8958</th>\n      <td>rs2855429</td>\n      <td>33266167</td>\n      <td>33158189</td>\n      <td>G</td>\n      <td>T</td>\n      <td>0.257895</td>\n    </tr>\n    <tr>\n      <th>8959</th>\n      <td>rs9469378</td>\n      <td>33267642</td>\n      <td>33159664</td>\n      <td>T</td>\n      <td>C</td>\n      <td>0.045167</td>\n    </tr>\n    <tr>\n      <th>8960</th>\n      <td>rs9277935</td>\n      <td>33268403</td>\n      <td>33160425</td>\n      <td>G</td>\n      <td>T</td>\n      <td>0.218660</td>\n    </tr>\n  </tbody>\n</table>\n<p>8444 rows × 6 columns</p>\n</div>"
     },
     "execution_count": 239,
     "metadata": {},
     "output_type": "execute_result"
    }
   ],
   "source": [
    "european_reference_panel_map_maf_filtered"
   ],
   "metadata": {
    "collapsed": false,
    "pycharm": {
     "name": "#%%\n"
    }
   }
  },
  {
   "cell_type": "code",
   "execution_count": 240,
   "outputs": [
    {
     "data": {
      "text/plain": "      SNP_id_x   SNP_pos     POS19 Major Minor       maf   SNP_id_y  \\\n0     rs969931  29602876  29494897     A     C  0.478086   rs969931   \n1     rs909968  29607484  29499505     G     A  0.411196   rs909968   \n2    rs3094575  29623781  29515802     C     T  0.256459  rs3094575   \n3    rs3094576  29624221  29516242     C     A  0.123158  rs3094576   \n4     rs376681  29625072  29517093     T     C  0.434641   rs376681   \n..         ...       ...       ...   ...   ...       ...        ...   \n964  rs9277932  33249231  33141253     G     T  0.448995  rs9277932   \n965  rs2855430  33249258  33141280     C     T  0.130813  rs2855430   \n966  rs3762013  33250517  33142539     A     G  0.449091  rs3762013   \n967  rs2855425  33252351  33144373     T     C  0.257703  rs2855425   \n968  rs2855459  33262634  33154656     C     T  0.130718  rs2855459   \n\n    Effect_allele Non_effect_allele       T     T_CDF       T-P    T_2CDF  \\\n0               G                 C -2.8550 -2.957368  0.051955 -5.914736   \n1               T                 A -2.4490 -2.702929  0.067009 -5.405858   \n2               T                 A  1.2560 -1.783926  0.167977 -3.567852   \n3               A                 T  3.5990 -3.362793  0.034638 -6.725587   \n4               G                 C -2.6630 -2.840312  0.058407 -5.680624   \n..            ...               ...     ...       ...       ...       ...   \n964             T                 A -1.2310 -1.761884  0.171721 -3.523768   \n965             A                 T  1.2140 -1.746843  0.174323 -3.493686   \n966             G                 C -1.0700 -1.617887  0.198317 -3.235774   \n967             G                 C -0.9776 -1.533940  0.215684 -3.067879   \n968             A                 T  1.2260 -1.757465  0.172482 -3.514929   \n\n      T_2CDF2     T_PPF       T-Z  \n0   -6.607883 -3.000048 -3.000048  \n1   -6.099005 -2.841499 -2.841499  \n2   -4.260999 -2.194264  2.194264  \n3   -7.418734 -3.238924  3.238924  \n4   -6.373771 -2.928007 -2.928007  \n..        ...       ...       ...  \n964 -4.216916 -2.176899 -2.176899  \n965 -4.186833 -2.164987  2.164987  \n966 -3.928921 -2.060720 -2.060720  \n967 -3.761027 -1.990647 -1.990647  \n968 -4.208077 -2.173404  2.173404  \n\n[969 rows x 16 columns]",
      "text/html": "<div>\n<style scoped>\n    .dataframe tbody tr th:only-of-type {\n        vertical-align: middle;\n    }\n\n    .dataframe tbody tr th {\n        vertical-align: top;\n    }\n\n    .dataframe thead th {\n        text-align: right;\n    }\n</style>\n<table border=\"1\" class=\"dataframe\">\n  <thead>\n    <tr style=\"text-align: right;\">\n      <th></th>\n      <th>SNP_id_x</th>\n      <th>SNP_pos</th>\n      <th>POS19</th>\n      <th>Major</th>\n      <th>Minor</th>\n      <th>maf</th>\n      <th>SNP_id_y</th>\n      <th>Effect_allele</th>\n      <th>Non_effect_allele</th>\n      <th>T</th>\n      <th>T_CDF</th>\n      <th>T-P</th>\n      <th>T_2CDF</th>\n      <th>T_2CDF2</th>\n      <th>T_PPF</th>\n      <th>T-Z</th>\n    </tr>\n  </thead>\n  <tbody>\n    <tr>\n      <th>0</th>\n      <td>rs969931</td>\n      <td>29602876</td>\n      <td>29494897</td>\n      <td>A</td>\n      <td>C</td>\n      <td>0.478086</td>\n      <td>rs969931</td>\n      <td>G</td>\n      <td>C</td>\n      <td>-2.8550</td>\n      <td>-2.957368</td>\n      <td>0.051955</td>\n      <td>-5.914736</td>\n      <td>-6.607883</td>\n      <td>-3.000048</td>\n      <td>-3.000048</td>\n    </tr>\n    <tr>\n      <th>1</th>\n      <td>rs909968</td>\n      <td>29607484</td>\n      <td>29499505</td>\n      <td>G</td>\n      <td>A</td>\n      <td>0.411196</td>\n      <td>rs909968</td>\n      <td>T</td>\n      <td>A</td>\n      <td>-2.4490</td>\n      <td>-2.702929</td>\n      <td>0.067009</td>\n      <td>-5.405858</td>\n      <td>-6.099005</td>\n      <td>-2.841499</td>\n      <td>-2.841499</td>\n    </tr>\n    <tr>\n      <th>2</th>\n      <td>rs3094575</td>\n      <td>29623781</td>\n      <td>29515802</td>\n      <td>C</td>\n      <td>T</td>\n      <td>0.256459</td>\n      <td>rs3094575</td>\n      <td>T</td>\n      <td>A</td>\n      <td>1.2560</td>\n      <td>-1.783926</td>\n      <td>0.167977</td>\n      <td>-3.567852</td>\n      <td>-4.260999</td>\n      <td>-2.194264</td>\n      <td>2.194264</td>\n    </tr>\n    <tr>\n      <th>3</th>\n      <td>rs3094576</td>\n      <td>29624221</td>\n      <td>29516242</td>\n      <td>C</td>\n      <td>A</td>\n      <td>0.123158</td>\n      <td>rs3094576</td>\n      <td>A</td>\n      <td>T</td>\n      <td>3.5990</td>\n      <td>-3.362793</td>\n      <td>0.034638</td>\n      <td>-6.725587</td>\n      <td>-7.418734</td>\n      <td>-3.238924</td>\n      <td>3.238924</td>\n    </tr>\n    <tr>\n      <th>4</th>\n      <td>rs376681</td>\n      <td>29625072</td>\n      <td>29517093</td>\n      <td>T</td>\n      <td>C</td>\n      <td>0.434641</td>\n      <td>rs376681</td>\n      <td>G</td>\n      <td>C</td>\n      <td>-2.6630</td>\n      <td>-2.840312</td>\n      <td>0.058407</td>\n      <td>-5.680624</td>\n      <td>-6.373771</td>\n      <td>-2.928007</td>\n      <td>-2.928007</td>\n    </tr>\n    <tr>\n      <th>...</th>\n      <td>...</td>\n      <td>...</td>\n      <td>...</td>\n      <td>...</td>\n      <td>...</td>\n      <td>...</td>\n      <td>...</td>\n      <td>...</td>\n      <td>...</td>\n      <td>...</td>\n      <td>...</td>\n      <td>...</td>\n      <td>...</td>\n      <td>...</td>\n      <td>...</td>\n      <td>...</td>\n    </tr>\n    <tr>\n      <th>964</th>\n      <td>rs9277932</td>\n      <td>33249231</td>\n      <td>33141253</td>\n      <td>G</td>\n      <td>T</td>\n      <td>0.448995</td>\n      <td>rs9277932</td>\n      <td>T</td>\n      <td>A</td>\n      <td>-1.2310</td>\n      <td>-1.761884</td>\n      <td>0.171721</td>\n      <td>-3.523768</td>\n      <td>-4.216916</td>\n      <td>-2.176899</td>\n      <td>-2.176899</td>\n    </tr>\n    <tr>\n      <th>965</th>\n      <td>rs2855430</td>\n      <td>33249258</td>\n      <td>33141280</td>\n      <td>C</td>\n      <td>T</td>\n      <td>0.130813</td>\n      <td>rs2855430</td>\n      <td>A</td>\n      <td>T</td>\n      <td>1.2140</td>\n      <td>-1.746843</td>\n      <td>0.174323</td>\n      <td>-3.493686</td>\n      <td>-4.186833</td>\n      <td>-2.164987</td>\n      <td>2.164987</td>\n    </tr>\n    <tr>\n      <th>966</th>\n      <td>rs3762013</td>\n      <td>33250517</td>\n      <td>33142539</td>\n      <td>A</td>\n      <td>G</td>\n      <td>0.449091</td>\n      <td>rs3762013</td>\n      <td>G</td>\n      <td>C</td>\n      <td>-1.0700</td>\n      <td>-1.617887</td>\n      <td>0.198317</td>\n      <td>-3.235774</td>\n      <td>-3.928921</td>\n      <td>-2.060720</td>\n      <td>-2.060720</td>\n    </tr>\n    <tr>\n      <th>967</th>\n      <td>rs2855425</td>\n      <td>33252351</td>\n      <td>33144373</td>\n      <td>T</td>\n      <td>C</td>\n      <td>0.257703</td>\n      <td>rs2855425</td>\n      <td>G</td>\n      <td>C</td>\n      <td>-0.9776</td>\n      <td>-1.533940</td>\n      <td>0.215684</td>\n      <td>-3.067879</td>\n      <td>-3.761027</td>\n      <td>-1.990647</td>\n      <td>-1.990647</td>\n    </tr>\n    <tr>\n      <th>968</th>\n      <td>rs2855459</td>\n      <td>33262634</td>\n      <td>33154656</td>\n      <td>C</td>\n      <td>T</td>\n      <td>0.130718</td>\n      <td>rs2855459</td>\n      <td>A</td>\n      <td>T</td>\n      <td>1.2260</td>\n      <td>-1.757465</td>\n      <td>0.172482</td>\n      <td>-3.514929</td>\n      <td>-4.208077</td>\n      <td>-2.173404</td>\n      <td>2.173404</td>\n    </tr>\n  </tbody>\n</table>\n<p>969 rows × 16 columns</p>\n</div>"
     },
     "execution_count": 240,
     "metadata": {},
     "output_type": "execute_result"
    }
   ],
   "source": [
    "temp = european_reference_panel_map_maf_filtered.merge(sample_summary, on='SNP_pos')\n",
    "temp"
   ],
   "metadata": {
    "collapsed": false,
    "pycharm": {
     "name": "#%%\n"
    }
   }
  },
  {
   "cell_type": "code",
   "execution_count": 241,
   "outputs": [
    {
     "data": {
      "text/plain": "50     29788636\n53     29790845\n739    32538340\n741    32539270\nName: SNP_pos, dtype: int64"
     },
     "execution_count": 241,
     "metadata": {},
     "output_type": "execute_result"
    }
   ],
   "source": [
    "temp_pos = temp.query('(Major == Effect_allele & Minor == Non_effect_allele) | (Major == Non_effect_allele & Minor == Effect_allele)')['SNP_pos']\n",
    "#temp_pos = temp_pos.sort_index(inplace=True)\n",
    "temp_pos"
   ],
   "metadata": {
    "collapsed": false,
    "pycharm": {
     "name": "#%%\n"
    }
   }
  },
  {
   "cell_type": "code",
   "execution_count": 242,
   "outputs": [
    {
     "data": {
      "text/plain": "Int64Index([206, 210, 6355, 6359], dtype='int64')"
     },
     "execution_count": 242,
     "metadata": {},
     "output_type": "execute_result"
    }
   ],
   "source": [
    "reset_for_typed_idx = european_reference_panel_map_maf_filtered.reset_index()\n",
    "typed_idx = reset_for_typed_idx.loc[reset_for_typed_idx['SNP_pos'].isin(temp_pos)].index\n",
    "typed_idx\n"
   ],
   "metadata": {
    "collapsed": false,
    "pycharm": {
     "name": "#%%\n"
    }
   }
  },
  {
   "cell_type": "code",
   "execution_count": 243,
   "outputs": [],
   "source": [
    "if len(typed_idx) >= 1:\n",
    "    ld_tt = european_reference_panel_ld_maf_filtered.iloc[:,typed_idx]\n",
    "    ld_tt = ld_tt.iloc[typed_idx, :]\n",
    "    #ld_tt = ld_tt.loc[:, typed_idx]\n",
    "    ld_tt = ld_tt + np.identity(len(ld_tt.columns)) * 0.15\n",
    "    ld_it = european_reference_panel_ld_maf_filtered.drop(typed_idx, axis=0)\n",
    "    ld_it = ld_it.iloc[:,typed_idx]\n",
    "    map_t = european_reference_panel_map_maf_filtered.iloc[typed_idx]\n",
    "    map_i = european_reference_panel_map_maf_filtered.drop(typed_idx, axis=0)"
   ],
   "metadata": {
    "collapsed": false,
    "pycharm": {
     "name": "#%%\n"
    }
   }
  },
  {
   "cell_type": "code",
   "execution_count": 244,
   "outputs": [
    {
     "data": {
      "text/plain": "((4, 4), (8440, 4), (4, 6), (8440, 6))"
     },
     "execution_count": 244,
     "metadata": {},
     "output_type": "execute_result"
    }
   ],
   "source": [
    "(ld_tt.shape, ld_it.shape, map_t.shape, map_i.shape)"
   ],
   "metadata": {
    "collapsed": false,
    "pycharm": {
     "name": "#%%\n"
    }
   }
  },
  {
   "cell_type": "code",
   "execution_count": 246,
   "outputs": [
    {
     "data": {
      "text/plain": "Int64Index([185, 189, 1047, 1051], dtype='int64')"
     },
     "execution_count": 246,
     "metadata": {},
     "output_type": "execute_result"
    }
   ],
   "source": [
    "typed_in_both_idx = sample_summary.loc[sample_summary['SNP_pos'].isin(temp_pos)].index\n",
    "typed_in_both_idx"
   ],
   "metadata": {
    "collapsed": false,
    "pycharm": {
     "name": "#%%\n"
    }
   }
  },
  {
   "cell_type": "code",
   "execution_count": 247,
   "outputs": [
    {
     "data": {
      "text/plain": "array([None, None, None, None], dtype=object)"
     },
     "execution_count": 247,
     "metadata": {},
     "output_type": "execute_result"
    }
   ],
   "source": [
    "if len(typed_in_both_idx) >= 1:\n",
    "    sample_summary = sample_summary.iloc[typed_in_both_idx]\n",
    "\n",
    "Zt = np.full(len(sample_summary['T-Z']), None)\n",
    "Zt"
   ],
   "metadata": {
    "collapsed": false,
    "pycharm": {
     "name": "#%%\n"
    }
   }
  },
  {
   "cell_type": "code",
   "execution_count": 248,
   "outputs": [
    {
     "data": {
      "text/plain": "SNP_id               rs4428528\nSNP_pos               32538340\nEffect_allele                G\nNon_effect_allele            C\nT                       -5.122\nT_CDF                -4.015507\nT-P                   0.018034\nT_2CDF               -8.031014\nT_2CDF2              -8.724161\nT_PPF                -3.594337\nT-Z                  -3.594337\nName: 1047, dtype: object"
     },
     "execution_count": 248,
     "metadata": {},
     "output_type": "execute_result"
    }
   ],
   "source": [
    "sample_summary.iloc[2]"
   ],
   "metadata": {
    "collapsed": false,
    "pycharm": {
     "name": "#%%\n"
    }
   }
  },
  {
   "cell_type": "code",
   "execution_count": 249,
   "outputs": [
    {
     "name": "stdout",
     "output_type": "stream",
     "text": [
      "0\n",
      "1\n",
      "2\n",
      "3\n"
     ]
    }
   ],
   "source": [
    "for i in range(len(Zt)):\n",
    "    #gwas_merged.iloc[i]['POS19']\n",
    "    if sample_summary.iloc[i]['Effect_allele'] != map_t.loc[map_t[map_t['SNP_pos'] == sample_summary.iloc[i]['SNP_pos']].index].iloc[0]['Minor']:\n",
    "        Zt[map_t['SNP_pos'] == sample_summary.iloc[i]['SNP_pos']] = -sample_summary.iloc[i]['T-Z']\n",
    "    else:\n",
    "        Zt[map_t['SNP_pos'] == sample_summary.iloc[i]['SNP_pos']] = sample_summary.iloc[i]['T-Z']"
   ],
   "metadata": {
    "collapsed": false,
    "pycharm": {
     "name": "#%%\n"
    }
   }
  },
  {
   "cell_type": "code",
   "execution_count": 250,
   "outputs": [
    {
     "data": {
      "text/plain": "         SNP_id   SNP_pos     POS19 Major Minor       maf\n6738  rs4428528  32538340  32430362     C     G  0.264689",
      "text/html": "<div>\n<style scoped>\n    .dataframe tbody tr th:only-of-type {\n        vertical-align: middle;\n    }\n\n    .dataframe tbody tr th {\n        vertical-align: top;\n    }\n\n    .dataframe thead th {\n        text-align: right;\n    }\n</style>\n<table border=\"1\" class=\"dataframe\">\n  <thead>\n    <tr style=\"text-align: right;\">\n      <th></th>\n      <th>SNP_id</th>\n      <th>SNP_pos</th>\n      <th>POS19</th>\n      <th>Major</th>\n      <th>Minor</th>\n      <th>maf</th>\n    </tr>\n  </thead>\n  <tbody>\n    <tr>\n      <th>6738</th>\n      <td>rs4428528</td>\n      <td>32538340</td>\n      <td>32430362</td>\n      <td>C</td>\n      <td>G</td>\n      <td>0.264689</td>\n    </tr>\n  </tbody>\n</table>\n</div>"
     },
     "execution_count": 250,
     "metadata": {},
     "output_type": "execute_result"
    }
   ],
   "source": [
    "map_t.loc[map_t[map_t['SNP_pos'] == sample_summary.iloc[2]['SNP_pos']].index]"
   ],
   "metadata": {
    "collapsed": false,
    "pycharm": {
     "name": "#%%\n"
    }
   }
  },
  {
   "cell_type": "code",
   "execution_count": 251,
   "outputs": [
    {
     "data": {
      "text/plain": "         SNP_id   SNP_pos     POS19 Major Minor       maf\n206   rs7741807  29788636  29680657     G     C  0.029187\n210   rs1627567  29790845  29682866     A     T  0.277512\n6738  rs4428528  32538340  32430362     C     G  0.264689\n6742  rs9268878  32539270  32431292     T     A  0.264880",
      "text/html": "<div>\n<style scoped>\n    .dataframe tbody tr th:only-of-type {\n        vertical-align: middle;\n    }\n\n    .dataframe tbody tr th {\n        vertical-align: top;\n    }\n\n    .dataframe thead th {\n        text-align: right;\n    }\n</style>\n<table border=\"1\" class=\"dataframe\">\n  <thead>\n    <tr style=\"text-align: right;\">\n      <th></th>\n      <th>SNP_id</th>\n      <th>SNP_pos</th>\n      <th>POS19</th>\n      <th>Major</th>\n      <th>Minor</th>\n      <th>maf</th>\n    </tr>\n  </thead>\n  <tbody>\n    <tr>\n      <th>206</th>\n      <td>rs7741807</td>\n      <td>29788636</td>\n      <td>29680657</td>\n      <td>G</td>\n      <td>C</td>\n      <td>0.029187</td>\n    </tr>\n    <tr>\n      <th>210</th>\n      <td>rs1627567</td>\n      <td>29790845</td>\n      <td>29682866</td>\n      <td>A</td>\n      <td>T</td>\n      <td>0.277512</td>\n    </tr>\n    <tr>\n      <th>6738</th>\n      <td>rs4428528</td>\n      <td>32538340</td>\n      <td>32430362</td>\n      <td>C</td>\n      <td>G</td>\n      <td>0.264689</td>\n    </tr>\n    <tr>\n      <th>6742</th>\n      <td>rs9268878</td>\n      <td>32539270</td>\n      <td>32431292</td>\n      <td>T</td>\n      <td>A</td>\n      <td>0.264880</td>\n    </tr>\n  </tbody>\n</table>\n</div>"
     },
     "execution_count": 251,
     "metadata": {},
     "output_type": "execute_result"
    }
   ],
   "source": [
    "map_t"
   ],
   "metadata": {
    "collapsed": false,
    "pycharm": {
     "name": "#%%\n"
    }
   }
  },
  {
   "cell_type": "code",
   "execution_count": 265,
   "outputs": [
    {
     "data": {
      "text/plain": "          V207      V211     V6739     V6743\n206   1.150000  0.279768 -0.030579 -0.030647\n210   0.279768  1.150000 -0.093783 -0.094030\n6738 -0.030579 -0.093783  1.150000  0.999509\n6742 -0.030647 -0.094030  0.999509  1.150000",
      "text/html": "<div>\n<style scoped>\n    .dataframe tbody tr th:only-of-type {\n        vertical-align: middle;\n    }\n\n    .dataframe tbody tr th {\n        vertical-align: top;\n    }\n\n    .dataframe thead th {\n        text-align: right;\n    }\n</style>\n<table border=\"1\" class=\"dataframe\">\n  <thead>\n    <tr style=\"text-align: right;\">\n      <th></th>\n      <th>V207</th>\n      <th>V211</th>\n      <th>V6739</th>\n      <th>V6743</th>\n    </tr>\n  </thead>\n  <tbody>\n    <tr>\n      <th>206</th>\n      <td>1.150000</td>\n      <td>0.279768</td>\n      <td>-0.030579</td>\n      <td>-0.030647</td>\n    </tr>\n    <tr>\n      <th>210</th>\n      <td>0.279768</td>\n      <td>1.150000</td>\n      <td>-0.093783</td>\n      <td>-0.094030</td>\n    </tr>\n    <tr>\n      <th>6738</th>\n      <td>-0.030579</td>\n      <td>-0.093783</td>\n      <td>1.150000</td>\n      <td>0.999509</td>\n    </tr>\n    <tr>\n      <th>6742</th>\n      <td>-0.030647</td>\n      <td>-0.094030</td>\n      <td>0.999509</td>\n      <td>1.150000</td>\n    </tr>\n  </tbody>\n</table>\n</div>"
     },
     "execution_count": 265,
     "metadata": {},
     "output_type": "execute_result"
    }
   ],
   "source": [
    "ld_tt"
   ],
   "metadata": {
    "collapsed": false,
    "pycharm": {
     "name": "#%%\n"
    }
   }
  },
  {
   "cell_type": "code",
   "execution_count": 266,
   "outputs": [
    {
     "data": {
      "text/plain": "0.3995940718604002"
     },
     "execution_count": 266,
     "metadata": {},
     "output_type": "execute_result"
    }
   ],
   "source": [
    "la.det(ld_tt)"
   ],
   "metadata": {
    "collapsed": false,
    "pycharm": {
     "name": "#%%\n"
    }
   }
  },
  {
   "cell_type": "code",
   "execution_count": 267,
   "outputs": [
    {
     "data": {
      "text/plain": "14.442234931474117"
     },
     "execution_count": 267,
     "metadata": {},
     "output_type": "execute_result"
    }
   ],
   "source": [
    "np.linalg.cond(ld_tt)"
   ],
   "metadata": {
    "collapsed": false,
    "pycharm": {
     "name": "#%%\n"
    }
   }
  },
  {
   "cell_type": "code",
   "execution_count": 268,
   "outputs": [
    {
     "data": {
      "text/plain": "array([[ 9.24314905e-01, -2.24314858e-01,  3.33910110e-03,\n         3.38920951e-03],\n       [-2.24314858e-01,  9.30251446e-01,  3.67327576e-02,\n         3.81587601e-02],\n       [ 3.33910110e-03,  3.67327576e-02,  3.55668082e+00,\n        -3.08815356e+00],\n       [ 3.38920951e-03,  3.81587601e-02, -3.08815356e+00,\n         3.55680684e+00]])"
     },
     "execution_count": 268,
     "metadata": {},
     "output_type": "execute_result"
    }
   ],
   "source": [
    "ld_tt_inv = la.solve(ld_tt, np.identity(len(ld_tt.columns)))\n",
    "ld_tt_inv"
   ],
   "metadata": {
    "collapsed": false,
    "pycharm": {
     "name": "#%%\n"
    }
   }
  },
  {
   "cell_type": "code",
   "execution_count": 270,
   "outputs": [
    {
     "data": {
      "text/plain": "array([[ 0.05644689,  0.06359244,  0.04472987,  0.04773058],\n       [ 0.05897275,  0.06191335,  0.04743777,  0.0504861 ],\n       [-0.05303876,  0.1523436 , -0.02161271, -0.02175948],\n       ...,\n       [-0.03240565,  0.01510092,  0.0057568 ,  0.00405221],\n       [ 0.02780723, -0.00990832, -0.024531  , -0.02507976],\n       [ 0.00476624, -0.00207751,  0.00473479,  0.0066765 ]])"
     },
     "execution_count": 270,
     "metadata": {},
     "output_type": "execute_result"
    }
   ],
   "source": [
    "weight = np.dot(ld_it, ld_tt_inv)\n",
    "weight"
   ],
   "metadata": {
    "collapsed": false,
    "pycharm": {
     "name": "#%%\n"
    }
   }
  },
  {
   "cell_type": "code",
   "execution_count": 258,
   "outputs": [
    {
     "data": {
      "text/plain": "array([-0.08420807960187399, -0.10554187711520255, 0.5224063237682237,\n       ..., -0.03194976148011233, 0.18423707056876817,\n       -0.04114112342529624], dtype=object)"
     },
     "execution_count": 258,
     "metadata": {},
     "output_type": "execute_result"
    }
   ],
   "source": [
    "Zi = np.dot(weight, Zt)\n",
    "Zi"
   ],
   "metadata": {
    "collapsed": false,
    "pycharm": {
     "name": "#%%\n"
    }
   }
  },
  {
   "cell_type": "code",
   "execution_count": 259,
   "outputs": [
    {
     "data": {
      "text/plain": "array([None, None, None, ..., None, None, None], dtype=object)"
     },
     "execution_count": 259,
     "metadata": {},
     "output_type": "execute_result"
    }
   ],
   "source": [
    "var = np.full(len(weight), None)\n",
    "var"
   ],
   "metadata": {
    "collapsed": false,
    "pycharm": {
     "name": "#%%\n"
    }
   }
  },
  {
   "cell_type": "code",
   "execution_count": 286,
   "outputs": [
    {
     "data": {
      "text/plain": "array([0.018088072487241404, 0.019264991363871754, 0.02852572125142223,\n       ..., 0.0012913488126812915, 0.003485343016921119,\n       0.00016690587995199413], dtype=object)"
     },
     "execution_count": 286,
     "metadata": {},
     "output_type": "execute_result"
    }
   ],
   "source": [
    "for i in range(len(weight)):\n",
    "    var[i] = np.sum(np.multiply(np.outer(weight[i], weight[i]), ld_tt.to_numpy()))\n",
    "var"
   ],
   "metadata": {
    "collapsed": false,
    "pycharm": {
     "name": "#%%\n"
    }
   }
  },
  {
   "cell_type": "code",
   "execution_count": 310,
   "outputs": [
    {
     "data": {
      "text/plain": "array([0.93289099, 0.91594584, 0.60138745, ..., 0.97451211, 0.85382748,\n       0.96718339])"
     },
     "execution_count": 310,
     "metadata": {},
     "output_type": "execute_result"
    }
   ],
   "source": [
    "impute_p = lambda x: 2*st.norm.cdf(-abs(x))\n",
    "imputed_p = impute_p(Zi.astype('float64'))\n",
    "imputed_p"
   ],
   "metadata": {
    "collapsed": false,
    "pycharm": {
     "name": "#%%\n"
    }
   }
  },
  {
   "cell_type": "code",
   "execution_count": 309,
   "outputs": [
    {
     "data": {
      "text/plain": "dtype('O')"
     },
     "execution_count": 309,
     "metadata": {},
     "output_type": "execute_result"
    }
   ],
   "source": [],
   "metadata": {
    "collapsed": false,
    "pycharm": {
     "name": "#%%\n"
    }
   }
  },
  {
   "cell_type": "code",
   "execution_count": 311,
   "outputs": [],
   "source": [
    "results = {'Marker_id':map_i['SNP_id'], 'Marker_pos':map_i['SNP_pos'], 'Effect_allele':map_i['Minor'], 'Non_effect_allele':map_i['Major'], 'Imputed_Z':Zi, 'r2pred':var,'imputed_P': 2*st.norm.cdf(-abs(Zi.astype('float64')))}"
   ],
   "metadata": {
    "collapsed": false,
    "pycharm": {
     "name": "#%%\n"
    }
   }
  },
  {
   "cell_type": "code",
   "execution_count": 298,
   "outputs": [
    {
     "data": {
      "text/plain": "[0        rs969931\n 1       rs2745406\n 2       rs6939431\n 3       rs1233427\n 4       rs1233426\n           ...    \n 8956    rs2744505\n 8957    rs2855459\n 8958    rs2855429\n 8959    rs9469378\n 8960    rs9277935\n Name: SNP_id, Length: 8440, dtype: object,\n 0       29602876\n 1       29604062\n 2       29604199\n 3       29604643\n 4       29606081\n           ...   \n 8956    33261100\n 8957    33262634\n 8958    33266167\n 8959    33267642\n 8960    33268403\n Name: SNP_pos, Length: 8440, dtype: int64,\n 0       C\n 1       C\n 2       A\n 3       A\n 4       A\n        ..\n 8956    C\n 8957    T\n 8958    T\n 8959    C\n 8960    T\n Name: Minor, Length: 8440, dtype: object,\n 0       A\n 1       T\n 2       G\n 3       G\n 4       G\n        ..\n 8956    G\n 8957    C\n 8958    G\n 8959    T\n 8960    G\n Name: Major, Length: 8440, dtype: object,\n array([-0.08420807960187399, -0.10554187711520255, 0.5224063237682237,\n        ..., -0.03194976148011233, 0.18423707056876817,\n        -0.04114112342529624], dtype=object),\n array([0.018088072487241404, 0.019264991363871754, 0.02852572125142223,\n        ..., 0.0012913488126812915, 0.003485343016921119,\n        0.00016690587995199413], dtype=object)]"
     },
     "execution_count": 298,
     "metadata": {},
     "output_type": "execute_result"
    }
   ],
   "source": [
    "results"
   ],
   "metadata": {
    "collapsed": false,
    "pycharm": {
     "name": "#%%\n"
    }
   }
  },
  {
   "cell_type": "code",
   "execution_count": 289,
   "outputs": [],
   "source": [
    "cols = [\"Marker_id\", \"Marker_pos\", \"Effect_allele\", \"Non_effect_allele\", \"Imputed_Z\",  \"r2pred\", \"imputed_P\"]"
   ],
   "metadata": {
    "collapsed": false,
    "pycharm": {
     "name": "#%%\n"
    }
   }
  },
  {
   "cell_type": "code",
   "execution_count": 312,
   "outputs": [
    {
     "data": {
      "text/plain": "      Marker_id  Marker_pos Effect_allele Non_effect_allele Imputed_Z  \\\n0      rs969931    29602876             C                 A -0.084208   \n1     rs2745406    29604062             C                 T -0.105542   \n2     rs6939431    29604199             A                 G  0.522406   \n3     rs1233427    29604643             A                 G -0.281259   \n4     rs1233426    29606081             A                 G -0.281259   \n...         ...         ...           ...               ...       ...   \n8956  rs2744505    33261100             C                 G -0.092582   \n8957  rs2855459    33262634             T                 C -0.094785   \n8958  rs2855429    33266167             T                 G  -0.03195   \n8959  rs9469378    33267642             C                 T  0.184237   \n8960  rs9277935    33268403             T                 G -0.041141   \n\n        r2pred  imputed_P  \n0     0.018088   0.932891  \n1     0.019265   0.915946  \n2     0.028526   0.601387  \n3     0.017927   0.778512  \n4     0.017927   0.778512  \n...        ...        ...  \n8956  0.001178   0.926235  \n8957  0.001235   0.924485  \n8958  0.001291   0.974512  \n8959  0.003485   0.853827  \n8960  0.000167   0.967183  \n\n[8440 rows x 7 columns]",
      "text/html": "<div>\n<style scoped>\n    .dataframe tbody tr th:only-of-type {\n        vertical-align: middle;\n    }\n\n    .dataframe tbody tr th {\n        vertical-align: top;\n    }\n\n    .dataframe thead th {\n        text-align: right;\n    }\n</style>\n<table border=\"1\" class=\"dataframe\">\n  <thead>\n    <tr style=\"text-align: right;\">\n      <th></th>\n      <th>Marker_id</th>\n      <th>Marker_pos</th>\n      <th>Effect_allele</th>\n      <th>Non_effect_allele</th>\n      <th>Imputed_Z</th>\n      <th>r2pred</th>\n      <th>imputed_P</th>\n    </tr>\n  </thead>\n  <tbody>\n    <tr>\n      <th>0</th>\n      <td>rs969931</td>\n      <td>29602876</td>\n      <td>C</td>\n      <td>A</td>\n      <td>-0.084208</td>\n      <td>0.018088</td>\n      <td>0.932891</td>\n    </tr>\n    <tr>\n      <th>1</th>\n      <td>rs2745406</td>\n      <td>29604062</td>\n      <td>C</td>\n      <td>T</td>\n      <td>-0.105542</td>\n      <td>0.019265</td>\n      <td>0.915946</td>\n    </tr>\n    <tr>\n      <th>2</th>\n      <td>rs6939431</td>\n      <td>29604199</td>\n      <td>A</td>\n      <td>G</td>\n      <td>0.522406</td>\n      <td>0.028526</td>\n      <td>0.601387</td>\n    </tr>\n    <tr>\n      <th>3</th>\n      <td>rs1233427</td>\n      <td>29604643</td>\n      <td>A</td>\n      <td>G</td>\n      <td>-0.281259</td>\n      <td>0.017927</td>\n      <td>0.778512</td>\n    </tr>\n    <tr>\n      <th>4</th>\n      <td>rs1233426</td>\n      <td>29606081</td>\n      <td>A</td>\n      <td>G</td>\n      <td>-0.281259</td>\n      <td>0.017927</td>\n      <td>0.778512</td>\n    </tr>\n    <tr>\n      <th>...</th>\n      <td>...</td>\n      <td>...</td>\n      <td>...</td>\n      <td>...</td>\n      <td>...</td>\n      <td>...</td>\n      <td>...</td>\n    </tr>\n    <tr>\n      <th>8956</th>\n      <td>rs2744505</td>\n      <td>33261100</td>\n      <td>C</td>\n      <td>G</td>\n      <td>-0.092582</td>\n      <td>0.001178</td>\n      <td>0.926235</td>\n    </tr>\n    <tr>\n      <th>8957</th>\n      <td>rs2855459</td>\n      <td>33262634</td>\n      <td>T</td>\n      <td>C</td>\n      <td>-0.094785</td>\n      <td>0.001235</td>\n      <td>0.924485</td>\n    </tr>\n    <tr>\n      <th>8958</th>\n      <td>rs2855429</td>\n      <td>33266167</td>\n      <td>T</td>\n      <td>G</td>\n      <td>-0.03195</td>\n      <td>0.001291</td>\n      <td>0.974512</td>\n    </tr>\n    <tr>\n      <th>8959</th>\n      <td>rs9469378</td>\n      <td>33267642</td>\n      <td>C</td>\n      <td>T</td>\n      <td>0.184237</td>\n      <td>0.003485</td>\n      <td>0.853827</td>\n    </tr>\n    <tr>\n      <th>8960</th>\n      <td>rs9277935</td>\n      <td>33268403</td>\n      <td>T</td>\n      <td>G</td>\n      <td>-0.041141</td>\n      <td>0.000167</td>\n      <td>0.967183</td>\n    </tr>\n  </tbody>\n</table>\n<p>8440 rows × 7 columns</p>\n</div>"
     },
     "execution_count": 312,
     "metadata": {},
     "output_type": "execute_result"
    }
   ],
   "source": [
    "df = pd.DataFrame(results)\n",
    "df"
   ],
   "metadata": {
    "collapsed": false,
    "pycharm": {
     "name": "#%%\n"
    }
   }
  },
  {
   "cell_type": "code",
   "execution_count": 314,
   "outputs": [],
   "source": [
    "df.to_csv('./results/sample_results.tsv', '\\t')"
   ],
   "metadata": {
    "collapsed": false,
    "pycharm": {
     "name": "#%%\n"
    }
   }
  },
  {
   "cell_type": "code",
   "execution_count": null,
   "outputs": [],
   "source": [],
   "metadata": {
    "collapsed": false,
    "pycharm": {
     "name": "#%%\n"
    }
   }
  }
 ],
 "metadata": {
  "kernelspec": {
   "display_name": "Python 3",
   "language": "python",
   "name": "python3"
  },
  "language_info": {
   "codemirror_mode": {
    "name": "ipython",
    "version": 2
   },
   "file_extension": ".py",
   "mimetype": "text/x-python",
   "name": "python",
   "nbconvert_exporter": "python",
   "pygments_lexer": "ipython2",
   "version": "2.7.6"
  }
 },
 "nbformat": 4,
 "nbformat_minor": 0
}